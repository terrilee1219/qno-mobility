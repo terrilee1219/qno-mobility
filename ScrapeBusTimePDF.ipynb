{
 "cells": [
  {
   "cell_type": "code",
   "execution_count": 38,
   "metadata": {},
   "outputs": [],
   "source": [
    "import requests\n",
    "from bs4 import BeautifulSoup\n",
    "import urllib.request\n"
   ]
  },
  {
   "cell_type": "code",
   "execution_count": 5,
   "metadata": {},
   "outputs": [
    {
     "name": "stdout",
     "output_type": "stream",
     "text": [
      "['101', '102', '103', '104', '105', '106', '107', '109', '110', '111', '113', '114', '118', '213', '214a', '214c', '215', '216', '223', '231', '232', '234', '235', '236', '237', '244', '245', '246', '260', '261', '262', 'A01', 'D01', 'D02', 'D04', 'D08', 'T01', 'T02', 'T03', 'T04']\n",
      "40\n"
     ]
    }
   ],
   "source": [
    "# URL prefix: https://www.myciti.org.za/en/timetables/route-timetables/?route=1-###-G-021-1\n",
    "# the three hashtags are where the route tag goes\n",
    "\n",
    "# get route tags\n",
    "f = open(\"BusLine.txt\", \"r\")\n",
    "file = f.read()\n",
    "f.close()\n",
    "fileArray = file.split(\"\\n\")\n",
    "# print(fileArray[0])\n",
    "\n",
    "# remove the result title\n",
    "resultTagArray = []\n",
    "count = 0\n",
    "for element in fileArray:\n",
    "    element = element.split(\" \")[0]\n",
    "    resultTagArray.append(element)\n",
    "    count = count+1\n",
    "resultTagArray.pop()\n",
    "print(resultTagArray)\n",
    "print(len(resultTagArray))"
   ]
  },
  {
   "cell_type": "code",
   "execution_count": 13,
   "metadata": {},
   "outputs": [
    {
     "name": "stdout",
     "output_type": "stream",
     "text": [
      "['https://www.myciti.org.za/en/timetables/route-timetables/?route=1-101-G-021-1', 'https://www.myciti.org.za/en/timetables/route-timetables/?route=1-102-G-021-1', 'https://www.myciti.org.za/en/timetables/route-timetables/?route=1-103-G-021-1', 'https://www.myciti.org.za/en/timetables/route-timetables/?route=1-104-G-021-1', 'https://www.myciti.org.za/en/timetables/route-timetables/?route=1-105-G-021-1', 'https://www.myciti.org.za/en/timetables/route-timetables/?route=1-106-G-021-1', 'https://www.myciti.org.za/en/timetables/route-timetables/?route=1-107-G-021-1', 'https://www.myciti.org.za/en/timetables/route-timetables/?route=1-109-G-021-1', 'https://www.myciti.org.za/en/timetables/route-timetables/?route=1-110-G-021-1', 'https://www.myciti.org.za/en/timetables/route-timetables/?route=1-111-G-021-1', 'https://www.myciti.org.za/en/timetables/route-timetables/?route=1-113-G-021-1', 'https://www.myciti.org.za/en/timetables/route-timetables/?route=1-114-G-021-1', 'https://www.myciti.org.za/en/timetables/route-timetables/?route=1-118-G-021-1', 'https://www.myciti.org.za/en/timetables/route-timetables/?route=1-213-G-021-1', 'https://www.myciti.org.za/en/timetables/route-timetables/?route=1-215-G-021-1', 'https://www.myciti.org.za/en/timetables/route-timetables/?route=1-216-G-021-1', 'https://www.myciti.org.za/en/timetables/route-timetables/?route=1-223-G-021-1', 'https://www.myciti.org.za/en/timetables/route-timetables/?route=1-231-G-021-1', 'https://www.myciti.org.za/en/timetables/route-timetables/?route=1-232-G-021-1', 'https://www.myciti.org.za/en/timetables/route-timetables/?route=1-234-G-021-1', 'https://www.myciti.org.za/en/timetables/route-timetables/?route=1-235-G-021-1', 'https://www.myciti.org.za/en/timetables/route-timetables/?route=1-236-G-021-1', 'https://www.myciti.org.za/en/timetables/route-timetables/?route=1-237-G-021-1', 'https://www.myciti.org.za/en/timetables/route-timetables/?route=1-244-G-021-1', 'https://www.myciti.org.za/en/timetables/route-timetables/?route=1-245-G-021-1', 'https://www.myciti.org.za/en/timetables/route-timetables/?route=1-246-G-021-1', 'https://www.myciti.org.za/en/timetables/route-timetables/?route=1-260-G-021-1', 'https://www.myciti.org.za/en/timetables/route-timetables/?route=1-261-G-021-1', 'https://www.myciti.org.za/en/timetables/route-timetables/?route=1-262-G-021-1', 'https://www.myciti.org.za/en/timetables/route-timetables/?route=1-A01-G-021-1', 'https://www.myciti.org.za/en/timetables/route-timetables/?route=1-D01-G-021-1', 'https://www.myciti.org.za/en/timetables/route-timetables/?route=1-D02-G-021-1', 'https://www.myciti.org.za/en/timetables/route-timetables/?route=1-D04-G-021-1', 'https://www.myciti.org.za/en/timetables/route-timetables/?route=1-D08-G-021-1', 'https://www.myciti.org.za/en/timetables/route-timetables/?route=1-T01-G-021-1', 'https://www.myciti.org.za/en/timetables/route-timetables/?route=1-T02-G-021-1', 'https://www.myciti.org.za/en/timetables/route-timetables/?route=1-T03-G-021-1', 'https://www.myciti.org.za/en/timetables/route-timetables/?route=1-T04-G-021-1', 'https://www.myciti.org.za/en/timetables/route-timetables/?route=1-14a-G-021-1', 'https://www.myciti.org.za/en/timetables/route-timetables/?route=1-14c-G-021-1']\n"
     ]
    }
   ],
   "source": [
    "# create an array of all the URLS\n",
    "# bug: the URL for some of the pages is not the result tag pu the URL prefix\n",
    "# solution: Find the pages with the anomaly and find the pattern\n",
    "# pages with weird URL\n",
    "# 214x and T01X\n",
    "# they removed the X lines (express lines)\n",
    "\n",
    "URLpre = \"https://www.myciti.org.za/en/timetables/route-timetables/?route=1-\"\n",
    "URLpost = \"-G-021-1\"\n",
    "\n",
    "URLarray = []\n",
    "for index in range(40):\n",
    "    # catch the bugs\n",
    "    resultTag = resultTagArray[index] \n",
    "    if resultTag not in (\"214a\", \"214c\"):\n",
    "        URL = URLpre+resultTagArray[index]+URLpost\n",
    "        URLarray.append(URL)\n",
    "\n",
    "URL = URLpre+\"14a\"+URLpost\n",
    "URLarray.append(URL)\n",
    "URL = URLpre+\"14c\"+URLpost\n",
    "URLarray.append(URL)\n",
    "print(URLarray)\n",
    "\n"
   ]
  },
  {
   "cell_type": "code",
   "execution_count": 14,
   "metadata": {},
   "outputs": [
    {
     "name": "stdout",
     "output_type": "stream",
     "text": [
      "https://live.myciti-api.wwc.co.za/docs/1370/101 Vredehoek - Gardens - Civic Centre (clockwise) - 26 October 2019.pdf\n",
      "https://live.myciti-api.wwc.co.za/docs/1371/102 Salt River Rail - Walmer Estate - Civic Centre - 26 October 2019.pdf\n",
      "https://live.myciti-api.wwc.co.za/docs/1372/103 Oranjezicht - Gardens - Civic Centre - 26 October 2019.pdf\n",
      "https://live.myciti-api.wwc.co.za/docs/1373/104 Oranjezicht - Gardens - Adderley - Waterfront - Sea Point - 26 October 2019.pdf\n",
      "https://live.myciti-api.wwc.co.za/docs/1374/105 Sea Point - Fresnaye - Civic Centre - 26 October 2019.pdf\n",
      "https://live.myciti-api.wwc.co.za/docs/1375/106 Camps Bay (clockwise) - Civic Centre _27 October 2018.pdf\n",
      "https://live.myciti-api.wwc.co.za/docs/1376/107 Camps Bay (anti-clockwise) - Civic Centre_27 October 2018.pdf\n",
      "https://live.myciti-api.wwc.co.za/docs/1378/109 Hout Bay Beach - Imizamo Yethu - Sea Point - Adderley - 26 October 2019.pdf\n",
      "https://live.myciti-api.wwc.co.za/docs/1379/110 Table Mountain - 1 November 2019.pdf\n",
      "https://live.myciti-api.wwc.co.za/docs/1380/111 Vredehoek - Gardens - Civic Centre - 26 October 2019.pdf\n",
      "https://live.myciti-api.wwc.co.za/docs/1382/113 Upper Kloof Street - Adderley - Waterfront - 27 October 2018.pdf\n",
      "https://live.myciti-api.wwc.co.za/docs/1383/114 Sea Point - Civic Centre - 26 October 2019.pdf\n",
      "https://live.myciti-api.wwc.co.za/docs/1429/118 Hangberg - Imizamo Yethu - Sea Point - Adderley - 26 October 2019.pdf\n",
      "https://live.myciti-api.wwc.co.za/docs/1385/213 Sunningdale - Parklands - Table View - Sunningdale_27 October 2018.pdf\n",
      "https://live.myciti-api.wwc.co.za/docs/1389/215  Sunningdale - Gie Road - Wood_28 October 2017.pdf\n",
      "https://live.myciti-api.wwc.co.za/docs/1390/216 Sunningdale - Wood Drive - Wood_11 October 2014.pdf\n",
      "https://live.myciti-api.wwc.co.za/docs/1391/223 Sunningdale - West Beach - Table View - Sunningdale_27 October 2018.pdf\n",
      "https://live.myciti-api.wwc.co.za/docs/1392/231 Atlantis - Atlantis Industria East_28 October 2017.pdf\n",
      "https://live.myciti-api.wwc.co.za/docs/1393/232 Atlantis Industria West - Protea Park - Avondale - Atlantis_27 October 2018.pdf\n",
      "https://live.myciti-api.wwc.co.za/docs/1395/234 Mamre (Crown) - Atlantis - 27 April 2019.pdf\n",
      "https://live.myciti-api.wwc.co.za/docs/1396/235 Pella - Atlantis - 27 October 2018.pdf\n",
      "https://live.myciti-api.wwc.co.za/docs/1397/236 Sherwood - Atlantis - 27 October 2018.pdf\n",
      "https://live.myciti-api.wwc.co.za/docs/1398/237 Robinvale - Atlantis - 27 October 2018.pdf\n",
      "https://live.myciti-api.wwc.co.za/docs/1399/244 Avondale - Protea Park - Atlantis Industria West - Alantis -  28 October 2017.pdf\n",
      "https://live.myciti-api.wwc.co.za/docs/1400/245 Saxonsea - Goede Hoop - Atlantis 27 October 2018.pdf\n",
      "https://live.myciti-api.wwc.co.za/docs/1401/246 Mamre (Frans) - Atlantis - 27 October 2018.pdf\n",
      "https://live.myciti-api.wwc.co.za/docs/1402/260 Summer Greens - Woodbridge Island - 27 April 2019.pdf\n",
      "https://live.myciti-api.wwc.co.za/docs/1403/261 Century City Rail - Omuramba - Salt River - Adderley - 27 April 2019.pdf\n",
      "https://live.myciti-api.wwc.co.za/docs/1404/262 Summer Greens - Century City - Woodbridge Island - 27 April 2019.pdf\n",
      "https://live.myciti-api.wwc.co.za/docs/1405/A01 Airport - Civic Centre - 15 July 2017.pdf\n",
      "https://live.myciti-api.wwc.co.za/docs/1406/D01 Khayelitsha East - Civic Centre - 27 April 2019.pdf\n",
      "https://live.myciti-api.wwc.co.za/docs/1407/D02 Khayelitsha West - Civic Centre - 27 April 2019.pdf\n",
      "https://live.myciti-api.wwc.co.za/docs/1409/D04 Kapteinsklip - Mitchells Plain Town Centre - Civic Centre - 27 April 2019.pdf\n",
      "https://live.myciti-api.wwc.co.za/docs/1411/D08 Dunoon - Montague Gardens - Century City - 27 October 2018.pdf\n",
      "https://live.myciti-api.wwc.co.za/docs/1412/T01 Dunoon - Table View - Civic Centre - Waterfront - 27 April 2019.pdf\n",
      "https://live.myciti-api.wwc.co.za/docs/1413/T02 Atlantis - Table View - Civic Centre -  26 October 2019.pdf\n",
      "https://live.myciti-api.wwc.co.za/docs/1414/T03 Atlantis - Melkbosstrand - Table View - Century City - 27 April 2019.pdf\n",
      "https://live.myciti-api.wwc.co.za/docs/1415/T04 Dunoon - Montague Gardens - Century City - 27 October 2018.pdf\n",
      "https://live.myciti-api.wwc.co.za/docs/1386/214a Parklands - Table View - Marine Circle - 27 April 2019.pdf\n",
      "https://live.myciti-api.wwc.co.za/docs/1388/214c Table View - Melkbosstrand - Duynefontein - 27 April 2019.pdf\n"
     ]
    }
   ],
   "source": [
    "# get URL for the PDF files in each URL in URLarray and store in pdfURLarray\n",
    "\n",
    "pdfURLarray = []\n",
    "for url in URLarray:\n",
    "    response = requests.get(url)\n",
    "    soup = BeautifulSoup(response.content, \"html.parser\")\n",
    "    #print(soup.prettify)\n",
    "\n",
    "    divTag = soup.find(\"div\", attrs={\"class\":\"table-cell text-right\"})\n",
    "    #print(divTag)\n",
    "\n",
    "    aTag = divTag.find(\"a\")\n",
    "    pdfURL = aTag.get('href')\n",
    "    print(pdfURL)\n",
    "    pdfURLarray.append(pdfURL)\n",
    "#print(pdfURLarray)\n"
   ]
  },
  {
   "cell_type": "code",
   "execution_count": 43,
   "metadata": {},
   "outputs": [],
   "source": [
    "# download all PDF timetables\n",
    "\n",
    "# store the pdf as the line tag\n",
    "# bug: the urlretrieve is not reading the URL spaces \n",
    "# solution: need to convert the spaces to %20 also called escaping\n",
    "\n",
    "for element in pdfURLarray:\n",
    "    split = element.split(\" \")\n",
    "    split1 = split[0].split(\"/\")\n",
    "    pdfName = str(split1[5])+\".pdf\"\n",
    "    # conver tspace to %20\n",
    "    element = element.replace(\" \", \"%20\")\n",
    "    urllib.request.urlretrieve(element, pdfName)\n"
   ]
  },
  {
   "cell_type": "code",
   "execution_count": null,
   "metadata": {},
   "outputs": [],
   "source": []
  }
 ],
 "metadata": {
  "kernelspec": {
   "display_name": "myenv",
   "language": "python",
   "name": "myenv"
  },
  "language_info": {
   "codemirror_mode": {
    "name": "ipython",
    "version": 3
   },
   "file_extension": ".py",
   "mimetype": "text/x-python",
   "name": "python",
   "nbconvert_exporter": "python",
   "pygments_lexer": "ipython3",
   "version": "3.7.3"
  }
 },
 "nbformat": 4,
 "nbformat_minor": 4
}
