{
 "cells": [
  {
   "cell_type": "code",
   "execution_count": null,
   "metadata": {},
   "outputs": [],
   "source": [
    "'''\n",
    "1. manually copy paste pdf to a text file and arrage data for easier file read\n",
    "2. read the file and insert data in to array\n",
    "3. merge the file with the data arranged in JS object format\n",
    "'''"
   ]
  },
  {
   "cell_type": "markdown",
   "metadata": {},
   "source": [
    "### Input text file format"
   ]
  },
  {
   "attachments": {
    "BusStopAndTimeTxtFormat.PNG": {
     "image/png": "[encoded data removed]"
    }
   },
   "cell_type": "markdown",
   "metadata": {},
   "source": [
    "![BusStopAndTimeTxtFormat.PNG](attachment:BusStopAndTimeTxtFormat.PNG)"
   ]
  },
  {
   "cell_type": "markdown",
   "metadata": {},
   "source": [
    "### Output JS object format"
   ]
  },
  {
   "attachments": {
    "JSObjectFormat.PNG": {
     "image/png": "[encoded data removed]"
    }
   },
   "cell_type": "markdown",
   "metadata": {},
   "source": [
    "![JSObjectFormat.PNG](attachment:JSObjectFormat.PNG)"
   ]
  },
  {
   "cell_type": "markdown",
   "metadata": {},
   "source": [
    "### step 1: read file"
   ]
  },
  {
   "cell_type": "code",
   "execution_count": 129,
   "metadata": {
    "scrolled": false
   },
   "outputs": [],
   "source": [
    "# read text file\n",
    "f = open(\"104BusStopsAndTimesMVP1.txt\", \"r\")\n",
    "firstArray = f.readlines()\n",
    "f.close()"
   ]
  },
  {
   "cell_type": "code",
   "execution_count": 130,
   "metadata": {},
   "outputs": [],
   "source": [
    "#for elements in firstArray:\n",
    "#    print(elements)"
   ]
  },
  {
   "cell_type": "code",
   "execution_count": 132,
   "metadata": {},
   "outputs": [
    {
     "name": "stdout",
     "output_type": "stream",
     "text": [
      "['07:12', '08:22', '09:32', '10:42', '11:52', '13:02', '14:12', '15:22', '16:32', '17:42', '18:52', '20:02', '21:12', '22:22']\n"
     ]
    }
   ],
   "source": [
    "#store the times as a nested array\n",
    "\n",
    "# take one example\n",
    "element = firstArray[1]\n",
    "#print(element)\n",
    "#print(len(element))\n",
    "buffer = element\n",
    "compensator = 0\n",
    "for x in range(len(element)):\n",
    "    if x%5 == 0:\n",
    "        #print(x)\n",
    "        buffer = buffer[:x+compensator] + '#' + buffer[x+compensator:]\n",
    "        compensator = compensator + 1\n",
    "#print(buffer)\n",
    "array = buffer.split('#')\n",
    "#print(array)\n",
    "array.remove('')\n",
    "#print(array)\n",
    "array.remove('\\n')\n",
    "print(array)"
   ]
  },
  {
   "cell_type": "markdown",
   "metadata": {},
   "source": [
    "### step 2: store bus stop name and times in two seperate arrays: nameArray and nestedArray"
   ]
  },
  {
   "cell_type": "code",
   "execution_count": 133,
   "metadata": {},
   "outputs": [
    {
     "name": "stdout",
     "output_type": "stream",
     "text": [
      "['07:12', '08:22', '09:32', '10:42', '11:52', '13:02', '14:12', '15:22', '16:32', '17:42', '18:52', '20:02', '21:12', '22:22']\n",
      "['07:16', '08:26', '09:36', '10:46', '11:56', '13:06', '14:16', '15:26', '16:36', '17:46', '18:56', '20:06', '21:16', '22:26']\n",
      "['07:18', '08:28', '09:38', '10:48', '11:58', '13:08', '14:18', '15:28', '16:38', '17:48', '18:58', '20:08', '21:18', '22:28']\n",
      "['07:20', '08:30', '09:40', '10:50', '12:00', '13:10', '14:20', '15:30', '16:40', '17:50', '19:00', '20:10', '21:20', '22:30']\n",
      "['07:22', '08:32', '09:42', '10:52', '12:02', '13:12', '14:22', '15:32', '16:42', '17:52', '19:02', '20:12', '21:22', '22:32']\n",
      "['07:24', '08:34', '09:44', '10:54', '12:04', '13:14', '14:24', '15:34', '16:44', '17:54', '19:04', '20:14', '21:24', '22:34']\n",
      "['07:25', '08:35', '09:45', '10:55', '12:05', '13:15', '14:25', '15:35', '16:45', '17:55', '19:05', '20:15', '21:25', '22:35']\n",
      "['07:27', '08:37', '09:47', '10:57', '12:07', '13:17', '14:27', '15:37', '16:47', '17:57', '19:07', '20:17', '21:27', '22:37']\n",
      "['07:29', '08:39', '09:49', '10:59', '12:09', '13:19', '14:29', '15:39', '16:49', '17:59', '19:09', '20:19', '21:29', '22:39']\n",
      "['07:33', '08:43', '09:53', '11:03', '12:13', '13:23', '14:33', '15:43', '16:53', '18:03', '19:13', '20:23', '21:33', '22:43']\n"
     ]
    }
   ],
   "source": [
    "#use above code in a for loop to create a nested array\n",
    "\n",
    "nestedArray = []\n",
    "count = 0\n",
    "for element in firstArray:\n",
    "    # odd number index is the time data\n",
    "    if count%2 == 1:\n",
    "        buffer = element\n",
    "        compensator = 0\n",
    "        for x in range(len(buffer)):\n",
    "            if x%5 == 0:\n",
    "                #print(x)\n",
    "                buffer = buffer[:x+compensator] + '#' + buffer[x+compensator:]\n",
    "                compensator = compensator + 1\n",
    "        #print(buffer)\n",
    "        array = buffer.split('#')\n",
    "        #print(array)\n",
    "        array.remove('')\n",
    "        #print(array)\n",
    "        try:\n",
    "            array.remove('\\n')\n",
    "        except:\n",
    "            print(\"no newline\")\n",
    "        #print(array)\n",
    "        nestedArray.append(array)\n",
    "    count = count + 1\n",
    "    \n",
    "for element in nestedArray:\n",
    "    print(element)"
   ]
  },
  {
   "cell_type": "code",
   "execution_count": 139,
   "metadata": {},
   "outputs": [
    {
     "name": "stdout",
     "output_type": "stream",
     "text": [
      "['Waterfront', 'Breakwater', 'Nobel Square', 'Aquarium', 'Marina', 'Clock Tower', 'Waterfront Silo', 'Amsterdam', 'Convention Centre', 'Adderley', '']\n",
      "['Waterfront', 'Breakwater', 'Nobel Square', 'Aquarium', 'Marina', 'Clock Tower', 'Waterfront Silo', 'Amsterdam', 'Convention Centre', 'Adderley']\n"
     ]
    }
   ],
   "source": [
    "# store bus stop name in an array\n",
    "\n",
    "count = 0\n",
    "nameArray = []\n",
    "for element in firstArray:\n",
    "    if count%2 == 0:\n",
    "        element = element.replace('\\n', \"\")\n",
    "        nameArray.append(element)\n",
    "    count = count + 1\n",
    "    \n",
    "print(nameArray)\n",
    "nameArray.remove('')\n",
    "print(nameArray)"
   ]
  },
  {
   "cell_type": "markdown",
   "metadata": {},
   "source": [
    "### step 4: append to the text file with the JS object notation"
   ]
  },
  {
   "cell_type": "code",
   "execution_count": 140,
   "metadata": {},
   "outputs": [],
   "source": [
    "# do for one bus stop\n",
    "# 'Waterfront': {\\n\\t'Sundays and Holidays': {  \n",
    "\n",
    "# test file\n",
    "\n",
    "buffer = \"'\"+nameArray[0]+\"'\"+\": {\\n\\t'Sundays and Holidays': {\\n\"\n",
    "\n",
    "f = open('test.txt', 'w')\n",
    "f.write(buffer)\n",
    "f.close()\n"
   ]
  },
  {
   "cell_type": "code",
   "execution_count": 141,
   "metadata": {},
   "outputs": [
    {
     "name": "stdout",
     "output_type": "stream",
     "text": [
      "1\n",
      "2\n",
      "3\n",
      "4\n",
      "5\n",
      "6\n",
      "7\n",
      "8\n",
      "9\n",
      "10\n",
      "11\n",
      "12\n",
      "13\n",
      "14\n",
      "catpured\n"
     ]
    }
   ],
   "source": [
    "# '1': '06:15'\n",
    "\n",
    "f = open('test.txt', 'w')\n",
    "count = 1\n",
    "for element in nestedArray[0]:    \n",
    "    print(count)\n",
    "    if count == len(nestedArray[0]):\n",
    "        print('catpured')\n",
    "        buffer = \"\\t\\t'\"+str(count)+\"'\"+\": '\"+element+\"'\\n\"\n",
    "        f.write(buffer)\n",
    "        break\n",
    "    buffer = \"\\t\\t'\"+str(count)+\"'\"+\": '\"+element+\"',\\n\"\n",
    "    f.write(buffer)\n",
    "    count = count + 1\n",
    "f.close()\n",
    "#print(count)\n",
    "#print(len(nestedArray[0]))"
   ]
  },
  {
   "cell_type": "code",
   "execution_count": 142,
   "metadata": {},
   "outputs": [],
   "source": [
    "# finishing brackets\n",
    "f = open('test.txt', 'a')\n",
    "f.write('\\t}\\n}')\n",
    "f.close()"
   ]
  },
  {
   "cell_type": "markdown",
   "metadata": {},
   "source": [
    "#### actual"
   ]
  },
  {
   "cell_type": "code",
   "execution_count": 147,
   "metadata": {},
   "outputs": [],
   "source": [
    "# do for all the stops\n",
    "\n",
    "f = open('test.txt', 'w')\n",
    "incrementNestedArray = 0\n",
    "for name in nameArray:\n",
    "    # name == Waterfront\n",
    "    buffer = \"'\"+name+\"'\"+\": {\\n\\t'order': \"+str(incrementNestedArray+1)+\",\\n\\t'Sundays and Holidays': {\\n\"\n",
    "    f.write(buffer)\n",
    "    \n",
    "    count = 1\n",
    "    for element in nestedArray[incrementNestedArray]:\n",
    "        # nestedArray == ['07:12', '08:22'...]\n",
    "        #element == '07:12'\n",
    "        if count == len(nestedArray[incrementNestedArray]):\n",
    "            buffer = \"\\t\\t'\"+str(count)+\"'\"+\": '\"+element+\"'\\n\"\n",
    "            f.write(buffer)\n",
    "            break\n",
    "        buffer = \"\\t\\t'\"+str(count)+\"'\"+\": '\"+element+\"',\\n\"\n",
    "        f.write(buffer)\n",
    "        count = count + 1\n",
    "    \n",
    "    f.write('\\t}\\n}\\n')\n",
    "    \n",
    "    incrementNestedArray = incrementNestedArray + 1\n",
    "f.close()"
   ]
  },
  {
   "cell_type": "code",
   "execution_count": null,
   "metadata": {},
   "outputs": [],
   "source": [
    "# add the order key value pair\n",
    "# 'order': 1,\n",
    "\n",
    "buffer = \"'\"+\"'order': \"+str(1)+\",\\n\"\n",
    "f.write(buffer)"
   ]
  },
  {
   "cell_type": "markdown",
   "metadata": {},
   "source": [
    "## Final code (Sundays and Holidays)"
   ]
  },
  {
   "cell_type": "code",
   "execution_count": 149,
   "metadata": {},
   "outputs": [
    {
     "name": "stdout",
     "output_type": "stream",
     "text": [
      "no newline\n",
      "no newline character\n"
     ]
    }
   ],
   "source": [
    "# read text file\n",
    "f = open(\"106BusStopsAndTimesMVP1.txt\", \"r\")\n",
    "firstArray = f.readlines()\n",
    "f.close()\n",
    "\n",
    "# store times in nested array\n",
    "nestedArray = []\n",
    "count = 0\n",
    "for element in firstArray:\n",
    "    # odd number index is the time data\n",
    "    if count%2 == 1:\n",
    "        buffer = element\n",
    "        compensator = 0\n",
    "        for x in range(len(buffer)):\n",
    "            if x%5 == 0:\n",
    "                #print(x)\n",
    "                buffer = buffer[:x+compensator] + '#' + buffer[x+compensator:]\n",
    "                compensator = compensator + 1\n",
    "        #print(buffer)\n",
    "        array = buffer.split('#')\n",
    "        #print(array)\n",
    "        array.remove('')\n",
    "        #print(array)\n",
    "        try:\n",
    "            array.remove('\\n')\n",
    "        except:\n",
    "            print(\"no newline\")\n",
    "        #print(array)\n",
    "        nestedArray.append(array)\n",
    "    count = count + 1\n",
    "\n",
    "    \n",
    "# store bus names in array\n",
    "count = 0\n",
    "nameArray = []\n",
    "for element in firstArray:\n",
    "    if count%2 == 0:\n",
    "        element = element.replace('\\n', \"\")\n",
    "        nameArray.append(element)\n",
    "    count = count + 1\n",
    "try:\n",
    "    nameArray.remove('')\n",
    "except:\n",
    "    print('no newline character')\n",
    "#print(nameArray)\n",
    "\n",
    "\n",
    "# write to a file\n",
    "f = open('JSObjectFormatData.txt', 'w')\n",
    "incrementNestedArray = 0\n",
    "for name in nameArray:\n",
    "    # name == Waterfront\n",
    "    buffer = \"'\"+name+\"'\"+\": {\\n\\t'order': \"+str(incrementNestedArray+1)+\",\\n\\t'Sundays and Holidays': {\\n\"\n",
    "    f.write(buffer)\n",
    "    \n",
    "    count = 1\n",
    "    for element in nestedArray[incrementNestedArray]:\n",
    "        # nestedArray == ['07:12', '08:22'...]\n",
    "        #element == '07:12'\n",
    "        if count == len(nestedArray[incrementNestedArray]):\n",
    "            buffer = \"\\t\\t'\"+str(count)+\"'\"+\": '\"+element+\"'\\n\"\n",
    "            f.write(buffer)\n",
    "            break\n",
    "        buffer = \"\\t\\t'\"+str(count)+\"'\"+\": '\"+element+\"',\\n\"\n",
    "        f.write(buffer)\n",
    "        count = count + 1\n",
    "    \n",
    "    f.write('\\t}\\n}\\n')\n",
    "    \n",
    "    incrementNestedArray = incrementNestedArray + 1\n",
    "f.close()"
   ]
  },
  {
   "cell_type": "markdown",
   "metadata": {},
   "source": [
    "## Final code (Mondays to Fridays)"
   ]
  },
  {
   "cell_type": "code",
   "execution_count": 3,
   "metadata": {},
   "outputs": [
    {
     "name": "stdout",
     "output_type": "stream",
     "text": [
      "no newline\n",
      "no newline character\n"
     ]
    }
   ],
   "source": [
    "# read text file\n",
    "f = open(\"106BusStopsAndTimesMVP1MonFri.txt\", \"r\")\n",
    "firstArray = f.readlines()\n",
    "f.close()\n",
    "\n",
    "# store times in nested array\n",
    "nestedArray = []\n",
    "count = 0\n",
    "for element in firstArray:\n",
    "    # odd number index is the time data\n",
    "    if count%2 == 1:\n",
    "        buffer = element\n",
    "        compensator = 0\n",
    "        for x in range(len(buffer)):\n",
    "            if x%5 == 0:\n",
    "                #print(x)\n",
    "                buffer = buffer[:x+compensator] + '#' + buffer[x+compensator:]\n",
    "                compensator = compensator + 1\n",
    "        #print(buffer)\n",
    "        array = buffer.split('#')\n",
    "        #print(array)\n",
    "        array.remove('')\n",
    "        #print(array)\n",
    "        try:\n",
    "            array.remove('\\n')\n",
    "        except:\n",
    "            print(\"no newline\")\n",
    "        #print(array)\n",
    "        nestedArray.append(array)\n",
    "    count = count + 1\n",
    "\n",
    "    \n",
    "# store bus names in array\n",
    "count = 0\n",
    "nameArray = []\n",
    "for element in firstArray:\n",
    "    if count%2 == 0:\n",
    "        element = element.replace('\\n', \"\")\n",
    "        nameArray.append(element)\n",
    "    count = count + 1\n",
    "try:\n",
    "    nameArray.remove('')\n",
    "except:\n",
    "    print('no newline character')\n",
    "#print(nameArray)\n",
    "\n",
    "\n",
    "# write to a file\n",
    "f = open('JSObjectFormatData.txt', 'w')\n",
    "incrementNestedArray = 0\n",
    "for name in nameArray:\n",
    "    # name == Waterfront\n",
    "    buffer = \"'\"+name+\"'\"+\": {\\n\\t'order': \"+str(incrementNestedArray+1)+\",\\n\\t'Mondays to Fridays': {\\n\"\n",
    "    f.write(buffer)\n",
    "    \n",
    "    count = 1\n",
    "    for element in nestedArray[incrementNestedArray]:\n",
    "        # nestedArray == ['07:12', '08:22'...]\n",
    "        #element == '07:12'\n",
    "        if count == len(nestedArray[incrementNestedArray]):\n",
    "            buffer = \"\\t\\t'\"+str(count)+\"'\"+\": '\"+element+\"'\\n\"\n",
    "            f.write(buffer)\n",
    "            break\n",
    "        buffer = \"\\t\\t'\"+str(count)+\"'\"+\": '\"+element+\"',\\n\"\n",
    "        f.write(buffer)\n",
    "        count = count + 1\n",
    "    \n",
    "    f.write('\\t}\\n}\\n')\n",
    "    \n",
    "    incrementNestedArray = incrementNestedArray + 1\n",
    "f.close()"
   ]
  },
  {
   "cell_type": "markdown",
   "metadata": {},
   "source": [
    "#### rough work"
   ]
  },
  {
   "cell_type": "code",
   "execution_count": 22,
   "metadata": {},
   "outputs": [
    {
     "name": "stdout",
     "output_type": "stream",
     "text": [
      "[[4, 5, 6, 7, 8], [1, 2, 3, 4]]\n"
     ]
    }
   ],
   "source": [
    "'''create double array'''\n",
    "array = []\n",
    "subArray = [4,5,6,7,8]\n",
    "subArray1 = [1,2,3,4]\n",
    "array.append(subArray)\n",
    "array.append(subArray1)\n",
    "print(array)"
   ]
  },
  {
   "cell_type": "code",
   "execution_count": 23,
   "metadata": {},
   "outputs": [],
   "source": [
    "array = []\n",
    "subArray = [4,5,6,7,8]\n",
    "subArray1 = [1,2,3,4]\n",
    "for x in range(5):\n",
    "    array.append(subArray)"
   ]
  },
  {
   "cell_type": "code",
   "execution_count": 24,
   "metadata": {},
   "outputs": [
    {
     "name": "stdout",
     "output_type": "stream",
     "text": [
      "[[4, 5, 6, 7, 8], [4, 5, 6, 7, 8], [4, 5, 6, 7, 8], [4, 5, 6, 7, 8], [4, 5, 6, 7, 8]]\n"
     ]
    }
   ],
   "source": [
    "print(array)"
   ]
  },
  {
   "cell_type": "code",
   "execution_count": 31,
   "metadata": {},
   "outputs": [
    {
     "name": "stdout",
     "output_type": "stream",
     "text": [
      "1\n"
     ]
    }
   ],
   "source": [
    "'''find odd number'''\n",
    "print(1%5)"
   ]
  },
  {
   "cell_type": "code",
   "execution_count": null,
   "metadata": {},
   "outputs": [],
   "source": [
    "# remove a character from a string\n",
    "\n",
    "a = 'abc'\n",
    "print(a.replace('a', \"\"))"
   ]
  },
  {
   "cell_type": "code",
   "execution_count": null,
   "metadata": {},
   "outputs": [],
   "source": [
    "# add character to a string\n",
    "\n",
    "a = 'abcd'\n",
    "print(a)\n",
    "b = a[:2] + '#' + a[2:]\n",
    "print(b)"
   ]
  },
  {
   "cell_type": "code",
   "execution_count": 93,
   "metadata": {},
   "outputs": [],
   "source": [
    "# test the tab character\n",
    "\n",
    "f = open('test.txt', 'w')\n",
    "f.write('hello\\tafter tab')\n",
    "f.close()"
   ]
  },
  {
   "cell_type": "code",
   "execution_count": null,
   "metadata": {},
   "outputs": [],
   "source": []
  }
 ],
 "metadata": {
  "kernelspec": {
   "display_name": "myenv",
   "language": "python",
   "name": "myenv"
  },
  "language_info": {
   "codemirror_mode": {
    "name": "ipython",
    "version": 3
   },
   "file_extension": ".py",
   "mimetype": "text/x-python",
   "name": "python",
   "nbconvert_exporter": "python",
   "pygments_lexer": "ipython3",
   "version": "3.7.3"
  }
 },
 "nbformat": 4,
 "nbformat_minor": 4
}
